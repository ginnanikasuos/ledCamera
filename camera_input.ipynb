{
 "cells": [
  {
   "cell_type": "code",
   "execution_count": null,
   "metadata": {},
   "outputs": [],
   "source": [
    "import cv2\n",
    "import matplotlib.pyplot as plt\n",
    "from led_camera import ledCamera\n",
    "import sys\n",
    "    \n",
    "if __name__ == \"__main__\":\n",
    "    ledcam = ledCamera()\n",
    "    if ledcam.result:\n",
    "        cap = ledcam.cap\n",
    "        #ledcam.release()\n",
    "        #cap = cv2.VideoCapture(0)\n",
    "        while True:\n",
    "            # camera input capture\n",
    "            ret, frame = cap.read()\n",
    "            if ret == False:\n",
    "                print(\"camera read false\")\n",
    "                sys.exit()\n",
    "            #print(frame.shape)\n",
    "            # find led\n",
    "            #center,cap_img = ledcam.find_led(frame)\n",
    "            # count led\n",
    "            center,cap_img = ledcam.led_count(frame)\n",
    "            # image show\n",
    "            cv2.imshow(\"frame\",cap_img)\n",
    "            if cv2.waitKey(1) == 13: break\n",
    "\n",
    "        cap.release()\n",
    "        cv2.destroyAllWindows()\n"
   ]
  },
  {
   "cell_type": "code",
   "execution_count": null,
   "metadata": {},
   "outputs": [],
   "source": [
    "cap.release()\n"
   ]
  }
 ],
 "metadata": {
  "kernelspec": {
   "display_name": "Python 3",
   "language": "python",
   "name": "python3"
  },
  "language_info": {
   "codemirror_mode": {
    "name": "ipython",
    "version": 3
   },
   "file_extension": ".py",
   "mimetype": "text/x-python",
   "name": "python",
   "nbconvert_exporter": "python",
   "pygments_lexer": "ipython3",
   "version": "3.7.5"
  }
 },
 "nbformat": 4,
 "nbformat_minor": 2
}
